{
 "cells": [
  {
   "cell_type": "code",
   "execution_count": 3,
   "metadata": {},
   "outputs": [],
   "source": [
    "from pyspark.sql import DataFrameReader, SparkSession\n",
    "\n",
    "# from pyspark.conf import SparkConf\n",
    "# from pyspark.context import SparkContext"
   ]
  },
  {
   "cell_type": "code",
   "execution_count": 4,
   "metadata": {},
   "outputs": [],
   "source": [
    "spark = SparkSession.builder.master('local').appName('Work Count').config('spark.some.config.option', 'some_value').getOrCreate()"
   ]
  },
  {
   "cell_type": "code",
   "execution_count": 7,
   "metadata": {},
   "outputs": [],
   "source": [
    "import time\n",
    "time1 = time.time()\n",
    "a = spark.read.parquet('hdfs://192.168.0.61/gaia/dianping-text/comment')\n",
    "time2 = time.time()-time1"
   ]
  },
  {
   "cell_type": "code",
   "execution_count": 8,
   "metadata": {},
   "outputs": [
    {
     "data": {
      "text/plain": [
       "22.150743007659912"
      ]
     },
     "execution_count": 8,
     "metadata": {},
     "output_type": "execute_result"
    }
   ],
   "source": [
    "time2"
   ]
  },
  {
   "cell_type": "code",
   "execution_count": 9,
   "metadata": {},
   "outputs": [
    {
     "data": {
      "text/plain": [
       "86168667"
      ]
     },
     "execution_count": 9,
     "metadata": {},
     "output_type": "execute_result"
    }
   ],
   "source": [
    "a.count()"
   ]
  },
  {
   "cell_type": "code",
   "execution_count": 10,
   "metadata": {},
   "outputs": [
    {
     "data": {
      "text/plain": [
       "[Row(review_id=2436458, shop_id=537185, author='肚撰', author_level=1, user_photo='https://p1.meituan.net/userheadpicbackend/69f544d1040c6d3e78263dbc4399bc911979.jpg%40120w_120h_1e_1c_1l%7Cwatermark%3D0', comment_datetime=datetime.datetime(2007, 1, 11, 8, 6, 19), star=0.0, flower_total=16, browse_count=34, avg_price=10.0, recommend='', content='给丹比4分，并非他是最好的面包店，是他的平实与坚持让我欣赏。我最心水的面包店，是早已超越这4分的。<br/><br/>高中时，天天上学经过丹比总店的门面，从未走进去过，太寻常的生活一景，反正，总会有人送他家的喜饼。甚至于，丹比卖面包吗？一点印象都没有。<br/><br/>世界上的事真的很有意思，谁能想到这么多年，离开台湾了，在另外一个城市的街头，还会看到那个一模一样白底红字的熟悉招牌，一模一样调调的西点铺。<br/><br/>于是，在多年N过门而不入后，这一次，我走进了丹比。<br/><br/>丹比的西点，有点土，绝不是它所标榜欧式的范，到不了那种享受级、鉴赏级的层次，拿正统意式、法式西点的眼光来看它，不公平。<br/><br/>但是它实在，3.5元一个的巧克力瑞士卷，不可能要求天然的香草，可是它用的香草精还是比较好的，而且下得适切并不是完全倚赖，再者别的部分如奶油、蛋、整体的质感上并没有偷工减料，在平价中做到这个价位能有的最好品质。天津的宾果士虽然比好利来好一点，但是做的仍不如丹比，而且要价至少是丹比的一倍，甚至不只。<br/><br/>同城的其他面包店一样，虽然长得比较漂亮，但是蛋糕、面包的最基本质感，仍然没有丹比做得实在、细腻，或者不以更重的香精味去讨好，若质量相当，价钱就贵很多了。<br/><br/>丹比产品每一个小签上，都强调着新鲜鸡蛋、精制面粉、进口奶油等等，可以看出老板多么热切地希望顾客们懂得他在品质上的用心。另外，那写满正体字的提袋，连每一个分店的地址都是正体字，老板在许多细节上的小小坚持，欣赏。<br/><br/>奶酥炸弹：很好吃，真材实料，从常常买不到可以看出它受欢迎的程度。<br/><br/>天使蛋糕：质感细腻，口味较清爽。<br/><br/>巧克力的瑞士卷和长崎蛋糕也不错。<br/><br/>拿破仑：虽然不是最好，但是价钱上也无可挑剔。价钱是天津宾果士的零头，但品质上天津宾果士是它的零头。<br/><br/>比较不满意的<br/><br/>蛋塔：有点过油，且塔皮不及港式的。我其实希望它做土土的台式有凸起一圈塔皮边的那种蛋塔。<br/><br/>泡芙：虽然里面的鲜奶油算得上纯正，但是放在泡芙里的应当是卡士达酱。泡芙的外皮还可以，但是，哎~~泡芙不是很容易做得至善至美的。<br/><br/>鸡蛋布丁：鸡蛋香还算足，只是做为布丁狂人，只能说布丁界高手如林，丹比在此没啥优势。另外，丹比的焦糖真的很焦，不是苦甜，真的是类似中药的苦味，不知道是不是我运气不好，还是他家的焦糖就是如此。', yearmonth='2007-01'),\n",
       " Row(review_id=81336219, shop_id=538034, author='小丫头刀刀', author_level=0, user_photo='https://p0.meituan.net/userheadpic/burger.png%40120w_120h_1e_1c_1l%7Cwatermark%3D0', comment_datetime=datetime.datetime(2014, 11, 25, 14, 17, 43), star=5.0, flower_total=0, browse_count=64, avg_price=0.0, recommend='', content='喜欢枣泥蛋糕，买了吐司回家打算做三明治', yearmonth='2014-11'),\n",
       " Row(review_id=756733, shop_id=539507, author='JK110', author_level=0, user_photo='https://p0.meituan.net/userheadpic/bun.png%40120w_120h_1e_1c_1l%7Cwatermark%3D0', comment_datetime=datetime.datetime(2005, 6, 14, 7, 1), star=0.0, flower_total=0, browse_count=9, avg_price=30.0, recommend='', content='好吃，就是贵了点，不过还是喜欢', yearmonth='2005-06'),\n",
       " Row(review_id=415585510, shop_id=510937, author='z_629108', author_level=0, user_photo='https://p0.meituan.net/userheadpic/lemon.png%40120w_120h_1e_1c_1l%7Cwatermark%3D0', comment_datetime=datetime.datetime(2018, 5, 1, 10, 21, 28), star=5.0, flower_total=0, browse_count=177, avg_price=0.0, recommend='', content='每次生日的必备  特别喜欢他们家的奶油', yearmonth='2018-05'),\n",
       " Row(review_id=281473224, shop_id=500331, author='吃货之旅888', author_level=0, user_photo='https://p0.meituan.net/userheadpic/icecream.png%40120w_120h_1e_1c_1l%7Cwatermark%3D0', comment_datetime=datetime.datetime(2016, 7, 21, 16, 53, 30), star=5.0, flower_total=0, browse_count=555, avg_price=0.0, recommend='', content='特别喜欢羊角。顺带买的套餐不错', yearmonth='2016-07')]"
      ]
     },
     "execution_count": 10,
     "metadata": {},
     "output_type": "execute_result"
    }
   ],
   "source": [
    "a.head(5)"
   ]
  },
  {
   "cell_type": "code",
   "execution_count": null,
   "metadata": {},
   "outputs": [],
   "source": []
  }
 ],
 "metadata": {
  "kernelspec": {
   "display_name": "Python 3",
   "language": "python",
   "name": "python3"
  },
  "language_info": {
   "codemirror_mode": {
    "name": "ipython",
    "version": 3
   },
   "file_extension": ".py",
   "mimetype": "text/x-python",
   "name": "python",
   "nbconvert_exporter": "python",
   "pygments_lexer": "ipython3",
   "version": "3.7.3"
  }
 },
 "nbformat": 4,
 "nbformat_minor": 2
}

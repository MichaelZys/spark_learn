{
 "cells": [
  {
   "cell_type": "code",
   "execution_count": null,
   "metadata": {},
   "outputs": [],
   "source": []
  },
  {
   "cell_type": "code",
   "execution_count": 1,
   "metadata": {},
   "outputs": [],
   "source": [
    "from pyspark.sql import SparkSession, Row"
   ]
  },
  {
   "cell_type": "code",
   "execution_count": 2,
   "metadata": {},
   "outputs": [],
   "source": [
    "spark = SparkSession \\\n",
    "    .builder \\\n",
    "    .appName(\"Python Spark SQL basic example\") \\\n",
    "    .config(\"spark.some.config.option\", \"some-value\") \\\n",
    "    .getOrCreate()"
   ]
  },
  {
   "cell_type": "code",
   "execution_count": 3,
   "metadata": {},
   "outputs": [],
   "source": [
    "jdbcDF = spark.read \\\n",
    "    .format(\"jdbc\") \\\n",
    "    .option(\"url\", \"jdbc:postgresql://www.parramountain.com:54360/questionnaire\") \\\n",
    "    .option(\"dbtable\", \"gkxs_origin.c_shop\") \\\n",
    "    .option(\"user\", \"postgres\") \\\n",
    "    .option(\"password\", \"postgres\") \\\n",
    "    .load()"
   ]
  },
  {
   "cell_type": "code",
   "execution_count": 4,
   "metadata": {},
   "outputs": [
    {
     "name": "stdout",
     "output_type": "stream",
     "text": [
      "<class 'pyspark.sql.dataframe.DataFrame'>\n"
     ]
    }
   ],
   "source": [
    "print(type(jdbcDF))\n"
   ]
  },
  {
   "cell_type": "code",
   "execution_count": 6,
   "metadata": {},
   "outputs": [
    {
     "name": "stdout",
     "output_type": "stream",
     "text": [
      "+----+-----------------------+--------------------------------+-------+-----------+\n",
      "|city|              shop_name|                    shop_address|cmt_qty|dianping_id|\n",
      "+----+-----------------------+--------------------------------+-------+-----------+\n",
      "|上海|布列德  Bread Sociét...|         吴中路1666号W广场C栋1楼|  331条|       null|\n",
      "|上海|   那不乐思比萨(宜山店)|凯旋路2561号(3号线宜山路站1号口)|  217条|   93187519|\n",
      "+----+-----------------------+--------------------------------+-------+-----------+\n",
      "only showing top 2 rows\n",
      "\n"
     ]
    }
   ],
   "source": [
    "jdbcDF.show(2)"
   ]
  },
  {
   "cell_type": "code",
   "execution_count": 7,
   "metadata": {},
   "outputs": [],
   "source": [
    "jdbcDF2 = spark.read \\\n",
    "    .jdbc(\"jdbc:postgresql://www.parramountain.com:54360/questionnaire\", \"gkxs_origin.c_shop\",\n",
    "          properties={\"user\": \"postgres\", \"password\": \"postgres\"})"
   ]
  },
  {
   "cell_type": "code",
   "execution_count": 15,
   "metadata": {},
   "outputs": [
    {
     "name": "stdout",
     "output_type": "stream",
     "text": [
      "<bound method DataFrame.printSchema of DataFrame[city: string, shop_name: string, dianping_id: float]>\n",
      "+----+-----------------------+-----------+\n",
      "|city|              shop_name|dianping_id|\n",
      "+----+-----------------------+-----------+\n",
      "|上海|布列德  Bread Sociét...|       null|\n",
      "|上海|   那不乐思比萨(宜山店)| 9.318752E7|\n",
      "+----+-----------------------+-----------+\n",
      "only showing top 2 rows\n",
      "\n"
     ]
    }
   ],
   "source": [
    "# Specifying dataframe column data types on read\n",
    "jdbcDF3 = spark.read \\\n",
    "    .format(\"jdbc\") \\\n",
    "    .option(\"url\", \"jdbc:postgresql://www.parramountain.com:54360/questionnaire\") \\\n",
    "    .option(\"dbtable\", \"gkxs_origin.c_shop\") \\\n",
    "    .option(\"user\", \"postgres\") \\\n",
    "    .option(\"password\", \"postgres\") \\\n",
    "    .option(\"customSchema\", \"city STRING, shop_name STRING, dianping_id float\") \\\n",
    "    .load()\\\n",
    "    .select('city','shop_name','dianping_id')\n",
    "print(jdbcDF3.printSchema)\n",
    "jdbcDF3.show(2)"
   ]
  },
  {
   "cell_type": "code",
   "execution_count": 25,
   "metadata": {},
   "outputs": [
    {
     "name": "stdout",
     "output_type": "stream",
     "text": [
      "+---+---------+\n",
      "| id|city_name|\n",
      "+---+---------+\n",
      "|  1|     上海|\n",
      "|  2|     深圳|\n",
      "|  1|     上海|\n",
      "|  2|     深圳|\n",
      "+---+---------+\n",
      "\n",
      "None\n",
      "<bound method DataFrame.printSchema of DataFrame[id: int, city_name: string]>\n"
     ]
    }
   ],
   "source": [
    "jdbcDF_new = spark.read \\\n",
    "    .format(\"jdbc\") \\\n",
    "    .option(\"url\", \"jdbc:postgresql://www.parramountain.com:54360/questionnaire\") \\\n",
    "    .option(\"dbtable\", \"gkxs_origin.tmp_20190717\") \\\n",
    "    .option(\"user\", \"postgres\") \\\n",
    "    .option(\"password\", \"postgres\") \\\n",
    "    .load()\n",
    "print(jdbcDF_new.show())\n",
    "print(jdbcDF_new.printSchema)"
   ]
  },
  {
   "cell_type": "code",
   "execution_count": 30,
   "metadata": {},
   "outputs": [],
   "source": [
    "# Saving data to a JDBC source\n",
    "jdbcDF_new.write \\\n",
    "    .format(\"jdbc\") \\\n",
    "    .option(\"url\", \"jdbc:postgresql://www.parramountain.com:54360/questionnaire\") \\\n",
    "    .option(\"dbtable\", \"gkxs_origin.tmp_20190718\") \\\n",
    "    .option(\"user\", \"postgres\") \\\n",
    "    .option(\"password\", \"postgres\") \\\n",
    "    .mode('overwrite')\\\n",
    "    .save()\n",
    "# 写入的时候， 列类型从varchar变为text, 可以用指定的方法指定varchar"
   ]
  },
  {
   "cell_type": "code",
   "execution_count": 32,
   "metadata": {},
   "outputs": [],
   "source": [
    "jdbcDF_new.write \\\n",
    "    .jdbc(\"jdbc:postgresql://www.parramountain.com:54360/questionnaire\", \"gkxs_origin.tmp_20190718\",\n",
    "          properties={\"user\": \"postgres\", \"password\": \"postgres\"}, mode='append')"
   ]
  },
  {
   "cell_type": "code",
   "execution_count": 40,
   "metadata": {},
   "outputs": [],
   "source": [
    "# Specifying create table column data types on write\n",
    "jdbcDF_new.write \\\n",
    "    .option(\"createTableColumnTypes\", \"id float,city_name VARCHAR(1024)\") \\\n",
    "    .jdbc(\"jdbc:postgresql://www.parramountain.com:54360/questionnaire\", \"gkxs_origin.tmp_20190719\",\n",
    "          properties={\"user\": \"postgres\", \"password\": \"postgres\"})"
   ]
  },
  {
   "cell_type": "code",
   "execution_count": null,
   "metadata": {},
   "outputs": [],
   "source": []
  }
 ],
 "metadata": {
  "kernelspec": {
   "display_name": "Python 3",
   "language": "python",
   "name": "python3"
  },
  "language_info": {
   "codemirror_mode": {
    "name": "ipython",
    "version": 3
   },
   "file_extension": ".py",
   "mimetype": "text/x-python",
   "name": "python",
   "nbconvert_exporter": "python",
   "pygments_lexer": "ipython3",
   "version": "3.7.3"
  }
 },
 "nbformat": 4,
 "nbformat_minor": 2
}

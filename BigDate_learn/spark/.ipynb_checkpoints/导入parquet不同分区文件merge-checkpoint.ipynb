{
 "cells": [
  {
   "cell_type": "markdown",
   "metadata": {},
   "source": [
    "#### SparkSession 创建"
   ]
  },
  {
   "cell_type": "code",
   "execution_count": 6,
   "metadata": {},
   "outputs": [],
   "source": [
    "from pyspark.sql import SparkSession, Row"
   ]
  },
  {
   "cell_type": "code",
   "execution_count": 1,
   "metadata": {},
   "outputs": [],
   "source": [
    "spark = SparkSession \\\n",
    "    .builder \\\n",
    "    .appName(\"Python Spark SQL basic example\") \\\n",
    "    .config(\"spark.some.config.option\", \"some-value\") \\\n",
    "    .getOrCreate()"
   ]
  },
  {
   "cell_type": "code",
   "execution_count": 2,
   "metadata": {},
   "outputs": [],
   "source": [
    "sc = spark.sparkContext"
   ]
  },
  {
   "cell_type": "code",
   "execution_count": 7,
   "metadata": {},
   "outputs": [
    {
     "data": {
      "text/plain": [
       "[Row(double=1, single=1),\n",
       " Row(double=4, single=2),\n",
       " Row(double=9, single=3),\n",
       " Row(double=16, single=4),\n",
       " Row(double=25, single=5)]"
      ]
     },
     "execution_count": 7,
     "metadata": {},
     "output_type": "execute_result"
    }
   ],
   "source": [
    "sc.parallelize(range(1,6)).map(lambda i : Row(single=i, double=i**2)).collect()"
   ]
  },
  {
   "cell_type": "code",
   "execution_count": 12,
   "metadata": {},
   "outputs": [
    {
     "name": "stdout",
     "output_type": "stream",
     "text": [
      "<class 'pyspark.sql.dataframe.DataFrame'>\n",
      "<bound method DataFrame.printSchema of DataFrame[double: bigint, single: bigint]>\n",
      "+------+------+\n",
      "|double|single|\n",
      "+------+------+\n",
      "|     1|     1|\n",
      "|     4|     2|\n",
      "|     9|     3|\n",
      "|    16|     4|\n",
      "|    25|     5|\n",
      "+------+------+\n",
      "\n"
     ]
    }
   ],
   "source": [
    "squaresDF = spark.createDataFrame(sc.parallelize(range(1, 6)).map(lambda i: Row(single=i, double=i ** 2)))\n",
    "squaresDF.write.parquet(\"test_table/key=1\")\n",
    "print(type(squaresDF))\n",
    "print(squaresDF.printSchema)\n",
    "squaresDF.show()"
   ]
  },
  {
   "cell_type": "code",
   "execution_count": 11,
   "metadata": {},
   "outputs": [
    {
     "name": "stdout",
     "output_type": "stream",
     "text": [
      "<class 'pyspark.sql.dataframe.DataFrame'>\n",
      "<bound method DataFrame.printSchema of DataFrame[single: bigint, triple: bigint]>\n",
      "+------+------+\n",
      "|single|triple|\n",
      "+------+------+\n",
      "|     6|   216|\n",
      "|     7|   343|\n",
      "|     8|   512|\n",
      "|     9|   729|\n",
      "|    10|  1000|\n",
      "+------+------+\n",
      "\n"
     ]
    }
   ],
   "source": [
    "cubesDF = spark.createDataFrame(sc.parallelize(range(6, 11)).map(lambda i: Row(single=i, triple=i ** 3)))\n",
    "cubesDF.write.parquet(\"test_table/key=2\")\n",
    "print(type(cubesDF))\n",
    "print(cubesDF.printSchema)\n",
    "cubesDF.show()"
   ]
  },
  {
   "cell_type": "code",
   "execution_count": 13,
   "metadata": {},
   "outputs": [
    {
     "name": "stdout",
     "output_type": "stream",
     "text": [
      "<class 'pyspark.sql.dataframe.DataFrame'>\n",
      "root\n",
      " |-- double: long (nullable = true)\n",
      " |-- single: long (nullable = true)\n",
      " |-- triple: long (nullable = true)\n",
      " |-- key: integer (nullable = true)\n",
      "\n",
      "+------+------+------+---+\n",
      "|double|single|triple|key|\n",
      "+------+------+------+---+\n",
      "|     1|     1|  null|  1|\n",
      "|     4|     2|  null|  1|\n",
      "|     9|     3|  null|  1|\n",
      "|    16|     4|  null|  1|\n",
      "|    25|     5|  null|  1|\n",
      "|  null|     6|   216|  2|\n",
      "|  null|     7|   343|  2|\n",
      "|  null|     8|   512|  2|\n",
      "|  null|     9|   729|  2|\n",
      "|  null|    10|  1000|  2|\n",
      "+------+------+------+---+\n",
      "\n"
     ]
    }
   ],
   "source": [
    "mergedDF = spark.read.option(\"mergeSchema\", \"true\").parquet(\"test_table\")\n",
    "print(type(mergedDF))\n",
    "mergedDF.printSchema()\n",
    "mergedDF.show()"
   ]
  },
  {
   "cell_type": "code",
   "execution_count": null,
   "metadata": {},
   "outputs": [],
   "source": []
  }
 ],
 "metadata": {
  "kernelspec": {
   "display_name": "Python 3",
   "language": "python",
   "name": "python3"
  },
  "language_info": {
   "codemirror_mode": {
    "name": "ipython",
    "version": 3
   },
   "file_extension": ".py",
   "mimetype": "text/x-python",
   "name": "python",
   "nbconvert_exporter": "python",
   "pygments_lexer": "ipython3",
   "version": "3.7.3"
  }
 },
 "nbformat": 4,
 "nbformat_minor": 2
}

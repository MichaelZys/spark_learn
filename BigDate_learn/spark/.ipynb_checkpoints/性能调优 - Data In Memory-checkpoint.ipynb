{
 "cells": [
  {
   "cell_type": "markdown",
   "metadata": {},
   "source": [
    "### Performance Tuning"
   ]
  },
  {
   "cell_type": "markdown",
   "metadata": {},
   "source": [
    "##### Caching Data In Memory"
   ]
  },
  {
   "cell_type": "code",
   "execution_count": null,
   "metadata": {},
   "outputs": [],
   "source": [
    "spark.catalog.cacheTable(\"tableName\")\n",
    "# or\n",
    "dataFrame.cache()\n",
    "# 自动压缩到最小。\n",
    "\n",
    "# 从内存移除表\n",
    "spark.catalog.uncacheTable(\"tableName\")"
   ]
  },
  {
   "cell_type": "code",
   "execution_count": null,
   "metadata": {},
   "outputs": [],
   "source": [
    "# 相关设置\n",
    "# 自动压缩 默认 True \n",
    "spark.sql.inMemoryColumnarStorage.compressed \n",
    "\n",
    "# 每个cache的size of batches 默认 10000\n",
    "spark.sql.inMemoryColumnarStorage.batchSize"
   ]
  },
  {
   "cell_type": "code",
   "execution_count": null,
   "metadata": {},
   "outputs": [],
   "source": [
    "# 其他设置\n",
    "# a single partition size 默认 128M\n",
    "spark.sql.files.maxPartitionBytes \n",
    "\n",
    "# 估计打开一个文本的估计成本 默认 4M,\n",
    "# 就是打开这个4M, 看耗时去估计总体。\n",
    "spark.sql.files.openCostInBytes\n",
    "\n",
    "# join超时 默认 300\n",
    "spark.sql.broadcastTimeout\n",
    "\n",
    "#不是很懂，一个表的最大size到其他nodes? 默认 10M\n",
    "spark.sql.autoBroadcastJoinThreshold\n",
    "\n",
    "# 配置用于join,aggregations的数据，洗牌后的分区数量，\n",
    "# 默认 200\n",
    "spark.sql.shuffle.partitions"
   ]
  }
 ],
 "metadata": {
  "kernelspec": {
   "display_name": "Python 3",
   "language": "python",
   "name": "python3"
  },
  "language_info": {
   "codemirror_mode": {
    "name": "ipython",
    "version": 3
   },
   "file_extension": ".py",
   "mimetype": "text/x-python",
   "name": "python",
   "nbconvert_exporter": "python",
   "pygments_lexer": "ipython3",
   "version": "3.7.3"
  }
 },
 "nbformat": 4,
 "nbformat_minor": 2
}
